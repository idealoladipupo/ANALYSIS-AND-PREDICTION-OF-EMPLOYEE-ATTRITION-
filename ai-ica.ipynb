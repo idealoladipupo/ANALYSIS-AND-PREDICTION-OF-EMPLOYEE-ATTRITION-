{
 "cells": [
  {
   "cell_type": "code",
   "execution_count": 1,
   "id": "610596a2",
   "metadata": {
    "_cell_guid": "b1076dfc-b9ad-4769-8c92-a6c4dae69d19",
    "_uuid": "8f2839f25d086af736a60e9eeb907d3b93b6e0e5",
    "execution": {
     "iopub.execute_input": "2024-03-06T16:55:38.342908Z",
     "iopub.status.busy": "2024-03-06T16:55:38.342511Z",
     "iopub.status.idle": "2024-03-06T16:55:39.212117Z",
     "shell.execute_reply": "2024-03-06T16:55:39.210808Z"
    },
    "papermill": {
     "duration": 0.876222,
     "end_time": "2024-03-06T16:55:39.215035",
     "exception": false,
     "start_time": "2024-03-06T16:55:38.338813",
     "status": "completed"
    },
    "tags": []
   },
   "outputs": [],
   "source": [
    "\n",
    "\n",
    "import numpy as np # linear algebra\n",
    "import pandas as pd # data processing, CSV file I/O (e.g. pd.read_csv)\n",
    "\n"
   ]
  }
 ],
 "metadata": {
  "kaggle": {
   "accelerator": "none",
   "dataSources": [],
   "isGpuEnabled": false,
   "isInternetEnabled": true,
   "language": "python",
   "sourceType": "notebook"
  },
  "kernelspec": {
   "display_name": "Python 3",
   "language": "python",
   "name": "python3"
  },
  "language_info": {
   "codemirror_mode": {
    "name": "ipython",
    "version": 3
   },
   "file_extension": ".py",
   "mimetype": "text/x-python",
   "name": "python",
   "nbconvert_exporter": "python",
   "pygments_lexer": "ipython3",
   "version": "3.10.13"
  },
  "papermill": {
   "default_parameters": {},
   "duration": 4.262272,
   "end_time": "2024-03-06T16:55:39.737609",
   "environment_variables": {},
   "exception": null,
   "input_path": "__notebook__.ipynb",
   "output_path": "__notebook__.ipynb",
   "parameters": {},
   "start_time": "2024-03-06T16:55:35.475337",
   "version": "2.5.0"
  }
 },
 "nbformat": 4,
 "nbformat_minor": 5
}
